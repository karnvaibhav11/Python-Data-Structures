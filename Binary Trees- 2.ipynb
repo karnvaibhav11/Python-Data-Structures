{
 "cells": [
  {
   "cell_type": "markdown",
   "metadata": {},
   "source": [
    "# Remove the Leaf Nodes"
   ]
  },
  {
   "cell_type": "code",
   "execution_count": 3,
   "metadata": {},
   "outputs": [],
   "source": [
    "class BinaryTreeNode:\n",
    "    def __init__(self,data):\n",
    "        self.data=data;\n",
    "        self.left=None\n",
    "        self.right=None\n",
    "\n",
    "def printTree(root):\n",
    "    if root==None:\n",
    "        return\n",
    "    print(root.data)\n",
    "    printTree(root.left)\n",
    "    printTree(root.right)\n",
    "\n",
    "def printTreeDetailed(root):\n",
    "    if root==None:\n",
    "        return\n",
    "    print(root.data,end=\":\")\n",
    "    if root.left!=None:\n",
    "        print(\"L\",root.left.data,end=\",\")\n",
    "    if root.right!=None:\n",
    "        print(\"R\",root.right.data,end=\"\")\n",
    "    print()\n",
    "    printTreeDetailed(root.left)\n",
    "    printTreeDetailed(root.right)\n",
    "\n",
    "def treeInput():\n",
    "    rootData=int(input())\n",
    "    if rootData==-1:\n",
    "        return None\n",
    "    root=BinaryTreeNode(rootData)\n",
    "    leftTree=treeInput()\n",
    "    rightTree=treeInput()\n",
    "    root.left=leftTree\n",
    "    root.right=rightTree\n",
    "    return root\n",
    "\n",
    "def removeLeaves(root):\n",
    "    if root==None:\n",
    "        return None\n",
    "    if root.left==None and root.right==None:\n",
    "        return None\n",
    "    root.left=removeLeaves(root.left)\n",
    "    root.right=removeLeaves(root.right)\n",
    "    return root"
   ]
  },
  {
   "cell_type": "code",
   "execution_count": 2,
   "metadata": {},
   "outputs": [
    {
     "name": "stdout",
     "output_type": "stream",
     "text": [
      "1\n",
      "2\n",
      "4\n",
      "-1\n",
      "-1\n",
      "5\n",
      "6\n",
      "-1\n",
      "-1\n",
      "7\n",
      "-1\n",
      "-1\n",
      "3\n",
      "7\n",
      "-1\n",
      "-1\n",
      "9\n",
      "-1\n",
      "-1\n",
      "1:L 2,R 3\n",
      "2:L 4,R 5\n",
      "4:\n",
      "5:L 6,R 7\n",
      "6:\n",
      "7:\n",
      "3:L 7,R 9\n",
      "7:\n",
      "9:\n",
      "1:L 2,R 3\n",
      "2:R 5\n",
      "5:\n",
      "3:\n"
     ]
    }
   ],
   "source": [
    "root=treeInput()\n",
    "printTreeDetailed(root)\n",
    "root=removeLeaves(root)\n",
    "printTreeDetailed(root)"
   ]
  },
  {
   "cell_type": "markdown",
   "metadata": {},
   "source": [
    "# Mirror Binary Tree"
   ]
  },
  {
   "cell_type": "code",
   "execution_count": 4,
   "metadata": {},
   "outputs": [
    {
     "name": "stdout",
     "output_type": "stream",
     "text": [
      "1\n",
      "2\n",
      "4\n",
      "-1\n",
      "-1\n",
      "5\n",
      "-1\n",
      "-1\n",
      "3\n",
      "6\n",
      "-1\n",
      "-1\n",
      "7\n",
      "-1\n",
      "-1\n",
      "1:L 3,R 2\n",
      "3:L 7,R 6\n",
      "7:\n",
      "6:\n",
      "2:L 5,R 4\n",
      "5:\n",
      "4:\n"
     ]
    }
   ],
   "source": [
    "from sys import stdin, setrecursionlimit\n",
    "import queue\n",
    "\n",
    "setrecursionlimit(10 ** 6)\n",
    "\n",
    "\n",
    "#Following is the structure used to represent the Binary Tree Node\n",
    "class BinaryTreeNode:\n",
    "    def __init__(self, data):\n",
    "        self.data = data\n",
    "        self.left = None\n",
    "        self.right = None\n",
    "\n",
    "\n",
    "\n",
    "\n",
    "def mirrorBinaryTree(root) :\n",
    "    # Your code goes here\n",
    "    if root is None:\n",
    "        \n",
    "    \treturn \n",
    "    \n",
    "    temp = root.left\n",
    "    root.left = root.right\n",
    "    root.right = temp\n",
    "    \n",
    "    \n",
    "    mirrorBinaryTree(root.right)\n",
    "    mirrorBinaryTree(root.left)\n",
    "\n",
    "    \n",
    "    return root\n",
    "\n",
    "\n",
    "def printTreeDetailed(root):\n",
    "    if root==None:\n",
    "        return\n",
    "    print(root.data,end=\":\")\n",
    "    if root.left!=None:\n",
    "        print(\"L\",root.left.data,end=\",\")\n",
    "    if root.right!=None:\n",
    "        print(\"R\",root.right.data,end=\"\")\n",
    "    print()\n",
    "    printTreeDetailed(root.left)\n",
    "    printTreeDetailed(root.right)\n",
    "\n",
    "def treeInput():\n",
    "    rootData=int(input())\n",
    "    if rootData==-1:\n",
    "        return None\n",
    "    root=BinaryTreeNode(rootData)\n",
    "    leftTree=treeInput()\n",
    "    rightTree=treeInput()\n",
    "    root.left=leftTree\n",
    "    root.right=rightTree\n",
    "    return root\n",
    "\n",
    "\n",
    "\n",
    "# Main\n",
    "root = treeInput()\n",
    "\n",
    "mirrorBinaryTree(root)\n",
    "printTreeDetailed(root) # Returns Reverted Binary Tree"
   ]
  },
  {
   "cell_type": "markdown",
   "metadata": {},
   "source": [
    "# Balanced Binary Tree"
   ]
  },
  {
   "cell_type": "code",
   "execution_count": 5,
   "metadata": {},
   "outputs": [],
   "source": [
    "def height(root):\n",
    "    if root==None:\n",
    "        return 0\n",
    "    return 1+max(height(root.left),height(root.right))\n",
    "\n",
    "def isBalanced(root):\n",
    "    if root==None:\n",
    "        return True\n",
    "    lh=height(root.left)\n",
    "    rh=height(root.right)\n",
    "    if lh-rh>1 or rh-lh>1:\n",
    "        return False\n",
    "    isLeftBalanced=isBalanced(root.left)\n",
    "    isRightBalanced=isBalanced(root.right)\n",
    "    if isLeftBalanced and isRightBalanced:\n",
    "        return True\n",
    "    else:\n",
    "        return False\n"
   ]
  },
  {
   "cell_type": "code",
   "execution_count": 6,
   "metadata": {},
   "outputs": [
    {
     "name": "stdout",
     "output_type": "stream",
     "text": [
      "1\n",
      "2\n",
      "4\n",
      "-1\n",
      "-1\n",
      "5\n",
      "-1\n",
      "-1\n",
      "3\n",
      "6\n",
      "-1\n",
      "-1\n",
      "7\n",
      "-1\n",
      "-1\n",
      "1:L 2,R 3\n",
      "2:L 4,R 5\n",
      "4:\n",
      "5:\n",
      "3:L 6,R 7\n",
      "6:\n",
      "7:\n",
      "True\n"
     ]
    }
   ],
   "source": [
    "root=treeInput()\n",
    "printTreeDetailed(root)\n",
    "print(isBalanced(root))"
   ]
  },
  {
   "cell_type": "markdown",
   "metadata": {},
   "source": [
    "# Balanced Binary Tree Improved "
   ]
  },
  {
   "cell_type": "code",
   "execution_count": 7,
   "metadata": {},
   "outputs": [],
   "source": [
    "# The above function has the time complexity of O(nlogn)\n",
    "# we will try to find a better solution such that our time complexity reduces to O(n)"
   ]
  },
  {
   "cell_type": "code",
   "execution_count": 8,
   "metadata": {},
   "outputs": [],
   "source": [
    "def getHeightAndCheckBalanced(root):\n",
    "    if root==None:\n",
    "        return 0,True\n",
    "    \n",
    "    lh,isLeftBalanced=getHeightAndCheckBalanced(root.left)\n",
    "    rh,isRightBalanced=getHeightAndCheckBalanced(root.right)\n",
    "    h=1+max(lh,rh)\n",
    "    if lh-rh>1 or rh-lh>1:\n",
    "        return h,False\n",
    "    if isLeftBalanced and isRightBalanced:\n",
    "        return h,True\n",
    "    else:\n",
    "        return h,False"
   ]
  },
  {
   "cell_type": "code",
   "execution_count": 9,
   "metadata": {},
   "outputs": [
    {
     "name": "stdout",
     "output_type": "stream",
     "text": [
      "1\n",
      "2\n",
      "4\n",
      "-1\n",
      "-1\n",
      "5\n",
      "9\n",
      "-1\n",
      "-1\n",
      "8\n",
      "-1\n",
      "-1\n",
      "3\n",
      "-1\n",
      "-1\n",
      "1:L 2,R 3\n",
      "2:L 4,R 5\n",
      "4:\n",
      "5:L 9,R 8\n",
      "9:\n",
      "8:\n",
      "3:\n",
      "(4, False)\n"
     ]
    }
   ],
   "source": [
    "root=treeInput()\n",
    "printTreeDetailed(root)\n",
    "print(getHeightAndCheckBalanced(root))"
   ]
  },
  {
   "cell_type": "markdown",
   "metadata": {},
   "source": [
    "# Taking level Wise Input"
   ]
  },
  {
   "cell_type": "code",
   "execution_count": 10,
   "metadata": {},
   "outputs": [
    {
     "name": "stdout",
     "output_type": "stream",
     "text": [
      "Enter root\n",
      "1\n",
      "Enter left child of 1\n",
      "2\n",
      "Enter right child of 1\n",
      "3\n",
      "Enter left child of 2\n",
      "5\n",
      "Enter right child of 2\n",
      "6\n",
      "Enter left child of 3\n",
      "9\n",
      "Enter right child of 3\n",
      "-1\n",
      "Enter left child of 5\n",
      "-1\n",
      "Enter right child of 5\n",
      "-1\n",
      "Enter left child of 6\n",
      "7\n",
      "Enter right child of 6\n",
      "-1\n",
      "Enter left child of 9\n",
      "-1\n",
      "Enter right child of 9\n",
      "-1\n",
      "Enter left child of 7\n",
      "-1\n",
      "Enter right child of 7\n",
      "-1\n",
      "1:L 2,R 3\n",
      "2:L 5,R 6\n",
      "5:\n",
      "6:L 7,\n",
      "7:\n",
      "3:L 9,\n",
      "9:\n"
     ]
    }
   ],
   "source": [
    "import queue\n",
    "def takeTreeInputLevelWise():\n",
    "    q=queue.Queue()\n",
    "    print(\"Enter root\")\n",
    "    rootData=int(input())\n",
    "    if rootData==-1:\n",
    "        return None\n",
    "    root=BinaryTreeNode(rootData)\n",
    "    q.put(root)\n",
    "    while(not(q.empty())):\n",
    "        current_node=q.get()\n",
    "        print(\"Enter left child of\",current_node.data)\n",
    "        leftChildData=int(input())\n",
    "        if leftChildData!=-1:\n",
    "            leftChild=BinaryTreeNode(leftChildData)\n",
    "            current_node.left=leftChild\n",
    "            q.put(leftChild)\n",
    "        \n",
    "        print(\"Enter right child of\",current_node.data)\n",
    "        rightChildData=int(input())\n",
    "        if rightChildData!=-1:\n",
    "            rightChild=BinaryTreeNode(rightChildData)\n",
    "            current_node.right=rightChild\n",
    "            q.put(rightChild)\n",
    "    return root\n",
    "\n",
    "root=takeTreeInputLevelWise()\n",
    "printTreeDetailed(root)"
   ]
  },
  {
   "cell_type": "markdown",
   "metadata": {},
   "source": [
    "# Build Tree Using Inorder and PreOrder"
   ]
  },
  {
   "cell_type": "code",
   "execution_count": 1,
   "metadata": {},
   "outputs": [],
   "source": [
    "def buildTreeFromPreIn(pre,inorder):\n",
    "    if len(pre)==0:\n",
    "        return None\n",
    "    rootData=pre[0]\n",
    "    root=BinaryTreeNode(rootData)\n",
    "    rootIndexInInOrder=-1\n",
    "    for i in range(0,len(inorder)):\n",
    "        if inorder[i]==rootData:\n",
    "            rootIndexInInorder=i\n",
    "            break\n",
    "    if rootIndexInInorder==-1:\n",
    "        return None\n",
    "        \n",
    "    leftInorder=inorder[0:rootIndexInInorder]\n",
    "    rightInorder=inorder[rootIndexInInorder+1:]\n",
    "        \n",
    "    lenLeftSubtree=len(leftInorder)\n",
    "        \n",
    "    leftPreorder=pre[1:lenLeftSubtree+1]\n",
    "    rightPreorder=pre[lenLeftSubtree+1:]\n",
    "        \n",
    "    leftChild=buildTreeFromPreIn(leftPreorder,leftInorder)\n",
    "    rightChild=buildTreeFromPreIn(rightPreorder,rightInorder)\n",
    "        \n",
    "    root.left=leftChild\n",
    "    root.right=rightChild\n",
    "    return root"
   ]
  },
  {
   "cell_type": "code",
   "execution_count": 4,
   "metadata": {},
   "outputs": [
    {
     "name": "stdout",
     "output_type": "stream",
     "text": [
      "1:L 2,R 3\n",
      "2:L 4,R 5\n",
      "4:\n",
      "5:\n",
      "3:L 6,R 7\n",
      "6:\n",
      "7:\n"
     ]
    }
   ],
   "source": [
    "pre=[1,2,4,5,3,6,7]\n",
    "inorder=[4,2,5,1,6,3,7]\n",
    "root=buildTreeFromPreIn(pre,inorder)\n",
    "printTreeDetailed(root)"
   ]
  },
  {
   "cell_type": "code",
   "execution_count": null,
   "metadata": {},
   "outputs": [],
   "source": []
  }
 ],
 "metadata": {
  "kernelspec": {
   "display_name": "Python 3",
   "language": "python",
   "name": "python3"
  },
  "language_info": {
   "codemirror_mode": {
    "name": "ipython",
    "version": 3
   },
   "file_extension": ".py",
   "mimetype": "text/x-python",
   "name": "python",
   "nbconvert_exporter": "python",
   "pygments_lexer": "ipython3",
   "version": "3.7.7"
  }
 },
 "nbformat": 4,
 "nbformat_minor": 4
}
