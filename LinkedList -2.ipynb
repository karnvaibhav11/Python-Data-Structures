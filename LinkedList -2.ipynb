{
 "cells": [
  {
   "cell_type": "markdown",
   "metadata": {},
   "source": [
    "# Reverse A Linked List (Recursively)"
   ]
  },
  {
   "cell_type": "code",
   "execution_count": 9,
   "metadata": {},
   "outputs": [],
   "source": [
    "class Node:\n",
    "    def __init__(self,data):\n",
    "        self.data = data\n",
    "        self.next = None\n",
    "\n",
    "def reverseLL(head):\n",
    "  \n",
    "    if head.next == None:\n",
    "        return head\n",
    "    \n",
    "    if head is None:\n",
    "        return None\n",
    "    \n",
    "    smallhead = reverseLL(head.next)\n",
    "    curr = smallhead\n",
    "    while curr.next is not None:\n",
    "        curr = curr.next\n",
    "    curr.next = head\n",
    "    head.next = None\n",
    "    return smallhead\n",
    "\n",
    "def takeInput():\n",
    "    inputList = [int(ele) for ele in input().split()]\n",
    "    \n",
    "    head = None\n",
    "    \n",
    "    for currData in inputList:\n",
    "        if currData == -1:\n",
    "            break\n",
    "        \n",
    "        newNode = Node(currData)\n",
    "        \n",
    "        if head is None:\n",
    "            head = newNode\n",
    "            tail = newNode\n",
    "            \n",
    "        else:\n",
    "            tail.next = newNode\n",
    "            tail = newNode\n",
    "    \n",
    "    return head\n",
    "        \n",
    "    \n",
    "def printLL(head):\n",
    "    while head is not None:\n",
    "        print(str(head.data)+\"->\", end=\"\")\n",
    "        head = head.next\n",
    "    print(None)\n",
    "    return \n"
   ]
  },
  {
   "cell_type": "code",
   "execution_count": 16,
   "metadata": {},
   "outputs": [
    {
     "name": "stdout",
     "output_type": "stream",
     "text": [
      "1 2 3 4 5 6\n",
      "1->2->3->4->5->6->None\n"
     ]
    }
   ],
   "source": [
    "head = takeInput()\n",
    "printLL(head)"
   ]
  },
  {
   "cell_type": "code",
   "execution_count": 17,
   "metadata": {},
   "outputs": [
    {
     "name": "stdout",
     "output_type": "stream",
     "text": [
      "6->5->4->3->2->1->None\n"
     ]
    }
   ],
   "source": [
    "head = reverseLL(head)\n",
    "printLL(head)"
   ]
  },
  {
   "cell_type": "markdown",
   "metadata": {},
   "source": [
    "# Reverse A Linked-List With Less Time Complexity (i.e. of O(n))"
   ]
  },
  {
   "cell_type": "code",
   "execution_count": 18,
   "metadata": {},
   "outputs": [],
   "source": [
    "def reverse2(head):\n",
    "    if head is None or head.next is None:\n",
    "        return head,head\n",
    "    smallHead,smallTail=reverse2(head.next)\n",
    "    smallTail.next=head\n",
    "    head.next=None\n",
    "    return smallHead,head"
   ]
  },
  {
   "cell_type": "code",
   "execution_count": 19,
   "metadata": {},
   "outputs": [
    {
     "name": "stdout",
     "output_type": "stream",
     "text": [
      "1->2->3->4->5->6->None\n"
     ]
    }
   ],
   "source": [
    "head,tail = reverse2(head)\n",
    "printLL(head)"
   ]
  },
  {
   "cell_type": "markdown",
   "metadata": {},
   "source": [
    "# Best Solution For Reversing A Linked List"
   ]
  },
  {
   "cell_type": "code",
   "execution_count": 20,
   "metadata": {},
   "outputs": [],
   "source": [
    "def reverse3(head):\n",
    "    if head is None or head.next is None:\n",
    "        return head\n",
    "    smallHead=reverse3(head.next)\n",
    "    tail=head.next\n",
    "    tail.next=head\n",
    "    head.next=None\n",
    "    return smallHead"
   ]
  },
  {
   "cell_type": "code",
   "execution_count": 21,
   "metadata": {},
   "outputs": [
    {
     "name": "stdout",
     "output_type": "stream",
     "text": [
      "6->5->4->3->2->1->None\n"
     ]
    }
   ],
   "source": [
    "head = reverse3(head)\n",
    "printLL(head)"
   ]
  },
  {
   "cell_type": "markdown",
   "metadata": {},
   "source": [
    "# Practice Till Now"
   ]
  },
  {
   "cell_type": "code",
   "execution_count": 1,
   "metadata": {},
   "outputs": [],
   "source": [
    "# How to make a Linked List:\n",
    "\n",
    "class Node:\n",
    "    def __init__(self,data):\n",
    "        self.data = data\n",
    "        self.next = None\n",
    "\n",
    "# Reverse Linked List code with time-complexity (O(n^2))\n",
    "def reverseLL(head):\n",
    "    \n",
    "    if head is None or head.next is None:\n",
    "        return head\n",
    "    \n",
    "    smallhead = reverseLL(head.next)\n",
    "    curr = smallhead\n",
    "    while curr.next is not None:\n",
    "        curr = curr.next\n",
    "    curr.next = head\n",
    "    head.next = None\n",
    "    return head\n",
    "\n",
    "# Reverse Linked List Time Complexity (O(n))\n",
    "def reverseLL1(head):\n",
    "    if head is None or head.next is None:\n",
    "        return head,head\n",
    "    \n",
    "    smallhead,tail = reverseLL1(head.next)\n",
    "    tail.next = head\n",
    "    head.next = None\n",
    "    return smallhead, head\n",
    "\n",
    "# Reverse Linked List with Time Complexity (O(n)) ---------> Best Solution\n",
    "def reverseLL3(head):\n",
    "    if head is None or head.next is None:\n",
    "        return head\n",
    "    \n",
    "    smallhead = reverseLL1(head.next)\n",
    "    tail = head.next  # making the tail\n",
    "    tail.next = head  # attaching the tail to head\n",
    "    head.next = None  # removing the previous bonf\n",
    "    return smallhead\n",
    "    \n"
   ]
  },
  {
   "cell_type": "code",
   "execution_count": 2,
   "metadata": {},
   "outputs": [],
   "source": [
    "def takeInput():\n",
    "    inputList = [int(ele) for ele in input().split()]\n",
    "    head = None\n",
    "    for currData in inputList:\n",
    "        if currData == -1:\n",
    "            break\n",
    "            \n",
    "        newNode = Node(currData)\n",
    "        \n",
    "        if head is None:\n",
    "            head = newNode\n",
    "        else:\n",
    "            curr = head\n",
    "            while curr.next is not None:\n",
    "                curr = curr.next\n",
    "            curr.next = newNode\n",
    "        return head\n",
    "            "
   ]
  },
  {
   "cell_type": "code",
   "execution_count": 3,
   "metadata": {},
   "outputs": [],
   "source": [
    "# Best for taking Input\n",
    "def takeInputR():\n",
    "    inputList = [int(ele) for ele in input().split()]\n",
    "    head = None\n",
    "    for currData in inputList:\n",
    "        if currData == -1:\n",
    "            break\n",
    "        \n",
    "        newNode = Node(currData)\n",
    "        \n",
    "        if head is None:\n",
    "            head = newNode\n",
    "            tail = newNode\n",
    "        else:\n",
    "            tail.next = newNode\n",
    "            tail = newNode\n",
    "        return head"
   ]
  },
  {
   "cell_type": "code",
   "execution_count": 4,
   "metadata": {},
   "outputs": [],
   "source": [
    "# Insert At the i-th position\n",
    "def insertAtI(head,i,data):\n",
    "  \n",
    "    if i<0 or i>lengthLL(head):\n",
    "        return\n",
    "\n",
    "# Initialising the curr and prev pointers\n",
    "    curr = head\n",
    "    prev = None\n",
    "\n",
    "#---------- While Loop for getting the prev and curr pointers ---------------------------\n",
    "    count = 0\n",
    "    while count< i:\n",
    "        prev = curr\n",
    "        curr = curr.next\n",
    "        count = count+1\n",
    "        \n",
    "#---------- Once we got the prev and curr, now we will make the Node of the data we need to insert at i-th Postion ------ \n",
    "    newNode = Node(data)\n",
    "    \n",
    "# ---------Conditional Statement if we have to insert the node at i=0 i.e prev.next = None \n",
    "    if prev.next is not None:\n",
    "        prev.next = newNode\n",
    "    else:\n",
    "        head = newNode\n",
    "        \n",
    "        \n",
    "    newNode.next = curr\n",
    "    return head\n",
    "    \n",
    "    "
   ]
  },
  {
   "cell_type": "code",
   "execution_count": 5,
   "metadata": {},
   "outputs": [],
   "source": [
    "# Inserting At the i-th position recursively:\n",
    "\n",
    "def insertAtIR(head,i,data):\n",
    "    \n",
    "    if i<0:\n",
    "        return head\n",
    "    \n",
    "    if i == 0:\n",
    "        newNode = Node(data)\n",
    "        newNode.next = head\n",
    "        return newNode\n",
    "        \n",
    "    if head is None:\n",
    "        return None\n",
    "        \n",
    "    smallList = insertAtIR(head.next,i-1,data)\n",
    "    head.next = smallList\n",
    "    return head"
   ]
  },
  {
   "cell_type": "code",
   "execution_count": 7,
   "metadata": {},
   "outputs": [],
   "source": [
    "def midPoint(head) :\n",
    "    # Write your code here\n",
    "    slow = head\n",
    "    fast = head\n",
    "    while(fast.next != null and fast.next.next != null):\n",
    "        slow = slow.next\n",
    "        fast = fast.next.next\n",
    "        \n",
    "    return slow"
   ]
  },
  {
   "cell_type": "code",
   "execution_count": null,
   "metadata": {},
   "outputs": [],
   "source": []
  }
 ],
 "metadata": {
  "kernelspec": {
   "display_name": "Python 3",
   "language": "python",
   "name": "python3"
  },
  "language_info": {
   "codemirror_mode": {
    "name": "ipython",
    "version": 3
   },
   "file_extension": ".py",
   "mimetype": "text/x-python",
   "name": "python",
   "nbconvert_exporter": "python",
   "pygments_lexer": "ipython3",
   "version": "3.7.7"
  }
 },
 "nbformat": 4,
 "nbformat_minor": 4
}
